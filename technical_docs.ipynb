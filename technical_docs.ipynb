{
  "nbformat": 4,
  "nbformat_minor": 0,
  "metadata": {
    "colab": {
      "provenance": [],
      "authorship_tag": "ABX9TyOZzjnSaxoc/mDRaMXwuVke",
      "include_colab_link": true
    },
    "kernelspec": {
      "name": "python3",
      "display_name": "Python 3"
    },
    "language_info": {
      "name": "python"
    }
  },
  "cells": [
    {
      "cell_type": "markdown",
      "metadata": {
        "id": "view-in-github",
        "colab_type": "text"
      },
      "source": [
        "<a href=\"https://colab.research.google.com/github/ggoltsman/Coursera.Duke.Cloud-101.techical-discusiions/blob/main/technical_docs.ipynb\" target=\"_parent\"><img src=\"https://colab.research.google.com/assets/colab-badge.svg\" alt=\"Open In Colab\"/></a>"
      ]
    },
    {
      "cell_type": "markdown",
      "source": [
        "## Injest"
      ],
      "metadata": {
        "id": "YOY2gRn10-Np"
      }
    },
    {
      "cell_type": "code",
      "execution_count": 5,
      "metadata": {
        "id": "UPESEGlZzbhE"
      },
      "outputs": [],
      "source": [
        "def hello(name):\n",
        "  print(f'Hello, {name}')"
      ]
    },
    {
      "cell_type": "code",
      "source": [
        "hello('dude')"
      ],
      "metadata": {
        "colab": {
          "base_uri": "https://localhost:8080/"
        },
        "id": "P53DjhYsz4MD",
        "outputId": "434089e3-56af-4303-b517-13bb61a85580"
      },
      "execution_count": 4,
      "outputs": [
        {
          "output_type": "stream",
          "name": "stdout",
          "text": [
            "Hello, dude\n"
          ]
        }
      ]
    },
    {
      "cell_type": "code",
      "source": [],
      "metadata": {
        "id": "Zttg2F1az9GV"
      },
      "execution_count": null,
      "outputs": []
    },
    {
      "cell_type": "markdown",
      "source": [
        "## Data Analysis"
      ],
      "metadata": {
        "id": "BsyMg06J0o3z"
      }
    },
    {
      "cell_type": "code",
      "source": [],
      "metadata": {
        "id": "GoO16Xjh1W8b"
      },
      "execution_count": null,
      "outputs": []
    },
    {
      "cell_type": "markdown",
      "source": [
        "buahahha\n"
      ],
      "metadata": {
        "id": "Txf3iOgp2S0r"
      }
    },
    {
      "cell_type": "code",
      "source": [],
      "metadata": {
        "id": "hJBHNhyi2Ueu"
      },
      "execution_count": null,
      "outputs": []
    }
  ]
}