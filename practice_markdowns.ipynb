{
 "cells": [
  {
   "cell_type": "code",
   "execution_count": 5,
   "id": "c325272e-bc2c-43b2-80a1-9563048b996c",
   "metadata": {},
   "outputs": [
    {
     "name": "stdout",
     "output_type": "stream",
     "text": [
      "bonjour le monde\n"
     ]
    }
   ],
   "source": [
    "print('bonjour le monde')"
   ]
  },
  {
   "cell_type": "markdown",
   "id": "5db08dbf-1124-4a07-8e0d-44c7faa602c8",
   "metadata": {},
   "source": [
    "~~This was mistaken text~~"
   ]
  },
  {
   "cell_type": "markdown",
   "id": "8e1e91f2-a22c-46a1-b3c0-b189e56f9012",
   "metadata": {},
   "source": [
    "****This is super-importan truth!!****"
   ]
  },
  {
   "cell_type": "markdown",
   "id": "dd1613ec-0280-4f7c-80df-903d0d897be4",
   "metadata": {},
   "source": [
    "> foo bar baz"
   ]
  },
  {
   "cell_type": "code",
   "execution_count": null,
   "id": "bc101750-3f1b-4f4f-b6e6-336e78febf8b",
   "metadata": {},
   "outputs": [],
   "source": []
  }
 ],
 "metadata": {
  "kernelspec": {
   "display_name": "Python 3 (ipykernel)",
   "language": "python",
   "name": "python3"
  },
  "language_info": {
   "codemirror_mode": {
    "name": "ipython",
    "version": 3
   },
   "file_extension": ".py",
   "mimetype": "text/x-python",
   "name": "python",
   "nbconvert_exporter": "python",
   "pygments_lexer": "ipython3",
   "version": "3.12.0"
  }
 },
 "nbformat": 4,
 "nbformat_minor": 5
}
